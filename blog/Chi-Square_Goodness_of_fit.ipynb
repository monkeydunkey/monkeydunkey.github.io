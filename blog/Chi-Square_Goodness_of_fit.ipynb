{
 "cells": [
  {
   "cell_type": "markdown",
   "metadata": {},
   "source": [
    "## Chi-Sqaure Goodness of fit\n",
    "Shashank Bhushan, 13 Jan 2017\n",
    "\n",
    "Data can be divided into two categories: Numerical and Categorical. While tests like Z-Statistics and T-Statistics deals with checking the goodness of fit or rather whether a given samples belongs to a given distribution for numerical values. Chi-Square or $\\chi^2$ is used to do the same for Categorical data. The formula for Chi-Sqaure statistics is the following:\n",
    "\n",
    "$$ Chi-Square = (expected - observed)^2 / observed$$\n",
    "\n",
    "Where \n",
    "\n",
    "expected : The expected value for a particular category\n",
    "\n",
    "observed : The observed value for a category\n",
    "\n",
    "Given the information we have till now and looking at the formula above it is not hard to see that something is missing. If Chi-Sqaure was used for categorical values then what does 'expected - observed' means. Its true that doing something like 'brown - brown' does not makes sense(it probably does in some programming languages :D), so to compare categorical values we use the frequency of occurance of each category observed value and expected frequency as the expected value. Lets look at an example to properly understand this point."
   ]
  },
  {
   "cell_type": "code",
   "execution_count": 1,
   "metadata": {
    "collapsed": false
   },
   "outputs": [],
   "source": [
    "# importing the required libraries\n",
    "import numpy as np\n",
    "import matplotlib.mlab as mlab\n",
    "import matplotlib.pyplot as plt\n",
    "import seaborn as sns\n",
    "\n",
    "%matplotlib inline"
   ]
  },
  {
   "cell_type": "code",
   "execution_count": 6,
   "metadata": {
    "collapsed": false
   },
   "outputs": [
    {
     "data": {
      "text/plain": [
       "9.75"
      ]
     },
     "execution_count": 6,
     "metadata": {},
     "output_type": "execute_result"
    }
   ],
   "source": [
    "# Suppose you want to start a resturant and you want to know how many people on a average come to a resturant in a\n",
    "# given on a given day. Suppose for area A all the resturant owners averaged their individual number of \n",
    "# expected customers\n",
    "Area_a_expected = np.array([5, 20, 10, 20, 30, 25])\n",
    "# this list would then represent the expected number of customer a resturant would expect on any given day from Monday\n",
    "# to Saturday (note there are only 6 values not 7). Now for one week you yourself decided to observe the average \n",
    "# number of customers in the different resturants\n",
    "Area_a_observed = np.array([10, 15, 5, 20, 30, 20])\n",
    "\n",
    "# Now the Chi-Square statistics would be calculated as follow\n",
    "chi_square = np.sum((Area_a_expected.astype(float) - Area_a_observed.astype(float))**2 / Area_a_expected)\n",
    "chi_square"
   ]
  },
  {
   "cell_type": "markdown",
   "metadata": {},
   "source": [
    "Now that we are done with how to calculate Chi-Sqaure statistics lets move on to how to use it for hypothesis testing. If you don't really know what hypothesis testing means you can go through my post on [hypothesis testing](https://monkeydunkey.github.io/blog/HypothesisTesting.html). Just to summarize the whole process of testing a hypothesis, the aim is to calculate the probabilty that a given sample set belongs a given population. For example in the example discussed above, a test can be conducted to see whether the observed number of customers for a week is similar to the expected number of customers.\n",
    "\n",
    "As with T-distribution the Chi-Square dsitribution is also dependent on the sample size and hence the lookup is also dependent of the sample size(the distribution is dependent on the Degree of freedom rather than the actual sample size. Degree of freedom is usually sample size - 1). Now lets perform a simple hypothesis that whether the observed number of customers is extremely different from the expected number of customers. The significance level used is going to 5% or $\\alpha$-level 0.05, the H<sub>0</sub> and H<sub>A</sub> are as follow:\n",
    "- H<sub>0</sub> : There is no difference in the observed and expected values\n",
    "- H<sub>A</sub> : There is a difference in the observed and expected values\n",
    "\n",
    "Now we need to calculate our Chi-Sqaure value this can be done by looking up a [Chi-Sqaure table](http://sites.stat.psu.edu/~mga/401/tables/Chi-square-table.pdf) (though there [scipy](https://docs.scipy.org/doc/scipy/reference/generated/scipy.stats.chisquare.html) has an implementation for calculating the chi-square and the corresponding p-value, we will be doing it by hand), we do need to calculate the degrees of freedom first which in this case is 5 i.e. # of samples - 1. If you look up the table for df 5 and $\\chi^2$ 0.05 we get the value 11.07. We got a value less than that hence we accept our null hypothesis that the expected and observed values are similar."
   ]
  },
  {
   "cell_type": "code",
   "execution_count": null,
   "metadata": {
    "collapsed": true
   },
   "outputs": [],
   "source": []
  }
 ],
 "metadata": {
  "anaconda-cloud": {},
  "kernelspec": {
   "display_name": "Python [Root]",
   "language": "python",
   "name": "Python [Root]"
  },
  "language_info": {
   "codemirror_mode": {
    "name": "ipython",
    "version": 2
   },
   "file_extension": ".py",
   "mimetype": "text/x-python",
   "name": "python",
   "nbconvert_exporter": "python",
   "pygments_lexer": "ipython2",
   "version": "2.7.12"
  }
 },
 "nbformat": 4,
 "nbformat_minor": 0
}
